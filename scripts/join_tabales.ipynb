{
 "cells": [
  {
   "cell_type": "code",
   "execution_count": 1,
   "id": "b039fa64",
   "metadata": {},
   "outputs": [],
   "source": [
    "from pyspark import SparkContext"
   ]
  },
  {
   "cell_type": "code",
   "execution_count": 4,
   "id": "379fcd52",
   "metadata": {},
   "outputs": [
    {
     "data": {
      "text/html": [
       "\n",
       "            <div>\n",
       "                <p><b>SparkSession - in-memory</b></p>\n",
       "                \n",
       "        <div>\n",
       "            <p><b>SparkContext</b></p>\n",
       "\n",
       "            <p><a href=\"http://ber-2420.fritz.box:4040\">Spark UI</a></p>\n",
       "\n",
       "            <dl>\n",
       "              <dt>Version</dt>\n",
       "                <dd><code>v3.0.3</code></dd>\n",
       "              <dt>Master</dt>\n",
       "                <dd><code>local[*]</code></dd>\n",
       "              <dt>AppName</dt>\n",
       "                <dd><code>jointables</code></dd>\n",
       "            </dl>\n",
       "        </div>\n",
       "        \n",
       "            </div>\n",
       "        "
      ],
      "text/plain": [
       "<pyspark.sql.session.SparkSession at 0x11f217a30>"
      ]
     },
     "execution_count": 4,
     "metadata": {},
     "output_type": "execute_result"
    }
   ],
   "source": [
    "import pyspark\n",
    "from pyspark.sql import SparkSession\n",
    "\n",
    "spark = SparkSession.builder.appName('jointables').getOrCreate()\n",
    "spark"
   ]
  },
  {
   "cell_type": "code",
   "execution_count": 5,
   "id": "4abf5bb7",
   "metadata": {},
   "outputs": [
    {
     "name": "stdout",
     "output_type": "stream",
     "text": [
      "root\n",
      " |-- emp_id: long (nullable = true)\n",
      " |-- name: string (nullable = true)\n",
      " |-- superior_emp_id: long (nullable = true)\n",
      " |-- year_joined: string (nullable = true)\n",
      " |-- emp_dept_id: string (nullable = true)\n",
      " |-- gender: string (nullable = true)\n",
      " |-- salary: long (nullable = true)\n",
      "\n",
      "+------+--------+---------------+-----------+-----------+------+------+\n",
      "|emp_id|name    |superior_emp_id|year_joined|emp_dept_id|gender|salary|\n",
      "+------+--------+---------------+-----------+-----------+------+------+\n",
      "|1     |Smith   |-1             |2018       |10         |M     |3000  |\n",
      "|2     |Rose    |1              |2010       |20         |M     |4000  |\n",
      "|3     |Williams|1              |2010       |10         |M     |1000  |\n",
      "|4     |Jones   |2              |2005       |10         |F     |2000  |\n",
      "|5     |Brown   |2              |2010       |40         |      |-1    |\n",
      "|6     |Brown   |2              |2010       |50         |      |-1    |\n",
      "+------+--------+---------------+-----------+-----------+------+------+\n",
      "\n"
     ]
    }
   ],
   "source": [
    "emp = [(1,\"Smith\",-1,\"2018\",\"10\",\"M\",3000), \\\n",
    "    (2,\"Rose\",1,\"2010\",\"20\",\"M\",4000), \\\n",
    "    (3,\"Williams\",1,\"2010\",\"10\",\"M\",1000), \\\n",
    "    (4,\"Jones\",2,\"2005\",\"10\",\"F\",2000), \\\n",
    "    (5,\"Brown\",2,\"2010\",\"40\",\"\",-1), \\\n",
    "      (6,\"Brown\",2,\"2010\",\"50\",\"\",-1) \\\n",
    "  ]\n",
    "empColumns = [\"emp_id\",\"name\",\"superior_emp_id\",\"year_joined\", \\\n",
    "       \"emp_dept_id\",\"gender\",\"salary\"]\n",
    "\n",
    "empDF = spark.createDataFrame(data=emp, schema = empColumns)\n",
    "empDF.printSchema()\n",
    "empDF.show(truncate=False)"
   ]
  },
  {
   "cell_type": "code",
   "execution_count": 6,
   "id": "59f0d2ec",
   "metadata": {},
   "outputs": [],
   "source": [
    "dept = [(\"Finance\",10, \"Bill\"), \\\n",
    "    (\"Marketing\",20, \"Joe\"), \\\n",
    "    (\"Sales\",30, \"Smith\"), \\\n",
    "    (\"IT\",40, \"Brown\") \\\n",
    "  ]"
   ]
  },
  {
   "cell_type": "code",
   "execution_count": 7,
   "id": "9ed307c0",
   "metadata": {},
   "outputs": [
    {
     "name": "stdout",
     "output_type": "stream",
     "text": [
      "root\n",
      " |-- dept_name: string (nullable = true)\n",
      " |-- dept_id: long (nullable = true)\n",
      " |-- emp_name: string (nullable = true)\n",
      "\n",
      "+---------+-------+--------+\n",
      "|dept_name|dept_id|emp_name|\n",
      "+---------+-------+--------+\n",
      "|Finance  |10     |Bill    |\n",
      "|Marketing|20     |Joe     |\n",
      "|Sales    |30     |Smith   |\n",
      "|IT       |40     |Brown   |\n",
      "+---------+-------+--------+\n",
      "\n"
     ]
    }
   ],
   "source": [
    "deptColumns = [\"dept_name\",\"dept_id\",\"emp_name\"]\n",
    "deptDF = spark.createDataFrame(data=dept, schema = deptColumns)\n",
    "deptDF.printSchema()\n",
    "deptDF.show(truncate=False)"
   ]
  },
  {
   "cell_type": "code",
   "execution_count": 8,
   "id": "67e9358b",
   "metadata": {},
   "outputs": [
    {
     "name": "stdout",
     "output_type": "stream",
     "text": [
      "+------+--------+---------------+-----------+-----------+------+------+---------+-------+--------+\n",
      "|emp_id|name    |superior_emp_id|year_joined|emp_dept_id|gender|salary|dept_name|dept_id|emp_name|\n",
      "+------+--------+---------------+-----------+-----------+------+------+---------+-------+--------+\n",
      "|1     |Smith   |-1             |2018       |10         |M     |3000  |Finance  |10     |Bill    |\n",
      "|3     |Williams|1              |2010       |10         |M     |1000  |Finance  |10     |Bill    |\n",
      "|4     |Jones   |2              |2005       |10         |F     |2000  |Finance  |10     |Bill    |\n",
      "|2     |Rose    |1              |2010       |20         |M     |4000  |Marketing|20     |Joe     |\n",
      "|5     |Brown   |2              |2010       |40         |      |-1    |IT       |40     |Brown   |\n",
      "+------+--------+---------------+-----------+-----------+------+------+---------+-------+--------+\n",
      "\n"
     ]
    }
   ],
   "source": [
    "empDF.join(deptDF,empDF.emp_dept_id ==  deptDF.dept_id,\"inner\").show(truncate=False)\n"
   ]
  },
  {
   "cell_type": "code",
   "execution_count": 9,
   "id": "7c98d2fe",
   "metadata": {},
   "outputs": [
    {
     "name": "stdout",
     "output_type": "stream",
     "text": [
      "+------+--------+---------------+-----------+-----------+------+------+---------+-------+--------+\n",
      "|emp_id|name    |superior_emp_id|year_joined|emp_dept_id|gender|salary|dept_name|dept_id|emp_name|\n",
      "+------+--------+---------------+-----------+-----------+------+------+---------+-------+--------+\n",
      "|6     |Brown   |2              |2010       |50         |      |-1    |null     |null   |null    |\n",
      "|1     |Smith   |-1             |2018       |10         |M     |3000  |Finance  |10     |Bill    |\n",
      "|3     |Williams|1              |2010       |10         |M     |1000  |Finance  |10     |Bill    |\n",
      "|4     |Jones   |2              |2005       |10         |F     |2000  |Finance  |10     |Bill    |\n",
      "|null  |null    |null           |null       |null       |null  |null  |Sales    |30     |Smith   |\n",
      "|2     |Rose    |1              |2010       |20         |M     |4000  |Marketing|20     |Joe     |\n",
      "|5     |Brown   |2              |2010       |40         |      |-1    |IT       |40     |Brown   |\n",
      "+------+--------+---------------+-----------+-----------+------+------+---------+-------+--------+\n",
      "\n",
      "+------+--------+---------------+-----------+-----------+------+------+---------+-------+--------+\n",
      "|emp_id|name    |superior_emp_id|year_joined|emp_dept_id|gender|salary|dept_name|dept_id|emp_name|\n",
      "+------+--------+---------------+-----------+-----------+------+------+---------+-------+--------+\n",
      "|6     |Brown   |2              |2010       |50         |      |-1    |null     |null   |null    |\n",
      "|1     |Smith   |-1             |2018       |10         |M     |3000  |Finance  |10     |Bill    |\n",
      "|3     |Williams|1              |2010       |10         |M     |1000  |Finance  |10     |Bill    |\n",
      "|4     |Jones   |2              |2005       |10         |F     |2000  |Finance  |10     |Bill    |\n",
      "|null  |null    |null           |null       |null       |null  |null  |Sales    |30     |Smith   |\n",
      "|2     |Rose    |1              |2010       |20         |M     |4000  |Marketing|20     |Joe     |\n",
      "|5     |Brown   |2              |2010       |40         |      |-1    |IT       |40     |Brown   |\n",
      "+------+--------+---------------+-----------+-----------+------+------+---------+-------+--------+\n",
      "\n",
      "+------+--------+---------------+-----------+-----------+------+------+---------+-------+--------+\n",
      "|emp_id|name    |superior_emp_id|year_joined|emp_dept_id|gender|salary|dept_name|dept_id|emp_name|\n",
      "+------+--------+---------------+-----------+-----------+------+------+---------+-------+--------+\n",
      "|6     |Brown   |2              |2010       |50         |      |-1    |null     |null   |null    |\n",
      "|1     |Smith   |-1             |2018       |10         |M     |3000  |Finance  |10     |Bill    |\n",
      "|3     |Williams|1              |2010       |10         |M     |1000  |Finance  |10     |Bill    |\n",
      "|4     |Jones   |2              |2005       |10         |F     |2000  |Finance  |10     |Bill    |\n",
      "|null  |null    |null           |null       |null       |null  |null  |Sales    |30     |Smith   |\n",
      "|2     |Rose    |1              |2010       |20         |M     |4000  |Marketing|20     |Joe     |\n",
      "|5     |Brown   |2              |2010       |40         |      |-1    |IT       |40     |Brown   |\n",
      "+------+--------+---------------+-----------+-----------+------+------+---------+-------+--------+\n",
      "\n"
     ]
    }
   ],
   "source": [
    "# Full Outer Join\n",
    "\n",
    "empDF.join(deptDF,empDF.emp_dept_id ==  deptDF.dept_id,\"outer\").show(truncate=False)\n",
    "empDF.join(deptDF,empDF.emp_dept_id ==  deptDF.dept_id,\"full\").show(truncate=False)\n",
    "empDF.join(deptDF,empDF.emp_dept_id ==  deptDF.dept_id,\"fullouter\").show(truncate=False)\n"
   ]
  },
  {
   "cell_type": "code",
   "execution_count": 10,
   "id": "58fb5363",
   "metadata": {},
   "outputs": [
    {
     "name": "stdout",
     "output_type": "stream",
     "text": [
      "+------+--------+---------------+-----------+-----------+------+------+---------+-------+--------+\n",
      "|emp_id|name    |superior_emp_id|year_joined|emp_dept_id|gender|salary|dept_name|dept_id|emp_name|\n",
      "+------+--------+---------------+-----------+-----------+------+------+---------+-------+--------+\n",
      "|6     |Brown   |2              |2010       |50         |      |-1    |null     |null   |null    |\n",
      "|5     |Brown   |2              |2010       |40         |      |-1    |null     |null   |null    |\n",
      "|1     |Smith   |-1             |2018       |10         |M     |3000  |null     |null   |null    |\n",
      "|3     |Williams|1              |2010       |10         |M     |1000  |null     |null   |null    |\n",
      "|2     |Rose    |1              |2010       |20         |M     |4000  |null     |null   |null    |\n",
      "|4     |Jones   |2              |2005       |10         |F     |2000  |null     |null   |null    |\n",
      "+------+--------+---------------+-----------+-----------+------+------+---------+-------+--------+\n",
      "\n",
      "+------+--------+---------------+-----------+-----------+------+------+---------+-------+--------+\n",
      "|emp_id|name    |superior_emp_id|year_joined|emp_dept_id|gender|salary|dept_name|dept_id|emp_name|\n",
      "+------+--------+---------------+-----------+-----------+------+------+---------+-------+--------+\n",
      "|6     |Brown   |2              |2010       |50         |      |-1    |null     |null   |null    |\n",
      "|1     |Smith   |-1             |2018       |10         |M     |3000  |Finance  |10     |Bill    |\n",
      "|3     |Williams|1              |2010       |10         |M     |1000  |Finance  |10     |Bill    |\n",
      "|4     |Jones   |2              |2005       |10         |F     |2000  |Finance  |10     |Bill    |\n",
      "|2     |Rose    |1              |2010       |20         |M     |4000  |Marketing|20     |Joe     |\n",
      "|5     |Brown   |2              |2010       |40         |      |-1    |IT       |40     |Brown   |\n",
      "+------+--------+---------------+-----------+-----------+------+------+---------+-------+--------+\n",
      "\n"
     ]
    }
   ],
   "source": [
    "#  Left Outer Join\n",
    "# vaghti column moshtarak nadashte bashan (emp_id, dept_id)\n",
    "empDF.join(deptDF, empDF.emp_id == deptDF.dept_id, \"left\") \\\n",
    "    .show(truncate = False)\n",
    "\n",
    "# rooye column moshtarak \n",
    "empDF.join(deptDF, empDF.emp_dept_id == deptDF.dept_id, \"left\") \\\n",
    "    .show(truncate = False)\n"
   ]
  },
  {
   "cell_type": "code",
   "execution_count": 11,
   "id": "ff31efe2",
   "metadata": {},
   "outputs": [
    {
     "name": "stdout",
     "output_type": "stream",
     "text": [
      "+------+--------+---------------+-----------+-----------+------+------+---------+-------+--------+\n",
      "|emp_id|name    |superior_emp_id|year_joined|emp_dept_id|gender|salary|dept_name|dept_id|emp_name|\n",
      "+------+--------+---------------+-----------+-----------+------+------+---------+-------+--------+\n",
      "|4     |Jones   |2              |2005       |10         |F     |2000  |null     |null   |null    |\n",
      "|2     |Rose    |1              |2010       |20         |M     |4000  |null     |null   |null    |\n",
      "|3     |Williams|1              |2010       |10         |M     |1000  |null     |null   |null    |\n",
      "|5     |Brown   |2              |2010       |40         |      |-1    |IT       |40     |Brown   |\n",
      "|1     |Smith   |-1             |2018       |10         |M     |3000  |null     |null   |null    |\n",
      "|6     |Brown   |2              |2010       |50         |      |-1    |null     |null   |null    |\n",
      "+------+--------+---------------+-----------+-----------+------+------+---------+-------+--------+\n",
      "\n"
     ]
    }
   ],
   "source": [
    "leftjoin = empDF.join(deptDF, (empDF.emp_dept_id == deptDF.dept_id) & (empDF.name == deptDF.emp_name), \"left\") \n",
    "leftjoin.show(truncate= False)"
   ]
  },
  {
   "cell_type": "code",
   "execution_count": 12,
   "id": "c7966499",
   "metadata": {},
   "outputs": [
    {
     "name": "stdout",
     "output_type": "stream",
     "text": [
      "+------+--------+---------------+-----------+-----------+------+------+---------+-------+--------+\n",
      "|emp_id|name    |superior_emp_id|year_joined|emp_dept_id|gender|salary|dept_name|dept_id|emp_name|\n",
      "+------+--------+---------------+-----------+-----------+------+------+---------+-------+--------+\n",
      "|1     |Smith   |-1             |2018       |10         |M     |3000  |Finance  |10     |Bill    |\n",
      "|3     |Williams|1              |2010       |10         |M     |1000  |Finance  |10     |Bill    |\n",
      "|4     |Jones   |2              |2005       |10         |F     |2000  |Finance  |10     |Bill    |\n",
      "|null  |null    |null           |null       |null       |null  |null  |Sales    |30     |Smith   |\n",
      "|2     |Rose    |1              |2010       |20         |M     |4000  |Marketing|20     |Joe     |\n",
      "|5     |Brown   |2              |2010       |40         |      |-1    |IT       |40     |Brown   |\n",
      "+------+--------+---------------+-----------+-----------+------+------+---------+-------+--------+\n",
      "\n",
      "+------+--------+---------------+-----------+-----------+------+------+---------+-------+--------+\n",
      "|emp_id|name    |superior_emp_id|year_joined|emp_dept_id|gender|salary|dept_name|dept_id|emp_name|\n",
      "+------+--------+---------------+-----------+-----------+------+------+---------+-------+--------+\n",
      "|1     |Smith   |-1             |2018       |10         |M     |3000  |Finance  |10     |Bill    |\n",
      "|3     |Williams|1              |2010       |10         |M     |1000  |Finance  |10     |Bill    |\n",
      "|4     |Jones   |2              |2005       |10         |F     |2000  |Finance  |10     |Bill    |\n",
      "|null  |null    |null           |null       |null       |null  |null  |Sales    |30     |Smith   |\n",
      "|2     |Rose    |1              |2010       |20         |M     |4000  |Marketing|20     |Joe     |\n",
      "|5     |Brown   |2              |2010       |40         |      |-1    |IT       |40     |Brown   |\n",
      "+------+--------+---------------+-----------+-----------+------+------+---------+-------+--------+\n",
      "\n"
     ]
    }
   ],
   "source": [
    "# Right Outer Join\n",
    "\n",
    "\n",
    "empDF.join(deptDF,empDF.emp_dept_id ==  deptDF.dept_id,\"right\") \\\n",
    "   .show(truncate=False)\n",
    "empDF.join(deptDF,empDF.emp_dept_id ==  deptDF.dept_id,\"rightouter\") \\\n",
    "   .show(truncate=False)\n"
   ]
  },
  {
   "cell_type": "markdown",
   "id": "bda5eff2",
   "metadata": {},
   "source": [
    "## Using SQL Expression\n",
    "\n",
    "Since PySpark SQL support native SQL syntax, we can also write join operations after creating temporary tables on DataFrames and use these tables on `spark.sql()`."
   ]
  },
  {
   "cell_type": "code",
   "execution_count": 13,
   "id": "a2f9c926",
   "metadata": {},
   "outputs": [],
   "source": [
    "empDF.createOrReplaceTempView(\"EMP\")\n",
    "deptDF.createOrReplaceTempView(\"DEPT\")"
   ]
  },
  {
   "cell_type": "code",
   "execution_count": 14,
   "id": "7dfe1542",
   "metadata": {},
   "outputs": [],
   "source": [
    "joinDF = spark.sql(\"select * from EMP e, DEPT d where e.emp_dept_id == d.dept_id\") \n",
    "\n",
    "joinDF2 = spark.sql(\"select * from EMP e INNER JOIN DEPT d ON e.emp_dept_id == d.dept_id\")"
   ]
  },
  {
   "cell_type": "code",
   "execution_count": 15,
   "id": "027fec39",
   "metadata": {},
   "outputs": [
    {
     "name": "stdout",
     "output_type": "stream",
     "text": [
      "+------+--------+---------------+-----------+-----------+------+------+---------+-------+--------+\n",
      "|emp_id|name    |superior_emp_id|year_joined|emp_dept_id|gender|salary|dept_name|dept_id|emp_name|\n",
      "+------+--------+---------------+-----------+-----------+------+------+---------+-------+--------+\n",
      "|1     |Smith   |-1             |2018       |10         |M     |3000  |Finance  |10     |Bill    |\n",
      "|3     |Williams|1              |2010       |10         |M     |1000  |Finance  |10     |Bill    |\n",
      "|4     |Jones   |2              |2005       |10         |F     |2000  |Finance  |10     |Bill    |\n",
      "|2     |Rose    |1              |2010       |20         |M     |4000  |Marketing|20     |Joe     |\n",
      "|5     |Brown   |2              |2010       |40         |      |-1    |IT       |40     |Brown   |\n",
      "+------+--------+---------------+-----------+-----------+------+------+---------+-------+--------+\n",
      "\n"
     ]
    }
   ],
   "source": [
    "joinDF.show(truncate=False)"
   ]
  },
  {
   "cell_type": "code",
   "execution_count": null,
   "id": "572fe1b8",
   "metadata": {},
   "outputs": [],
   "source": []
  }
 ],
 "metadata": {
  "kernelspec": {
   "display_name": "Python 3 (ipykernel)",
   "language": "python",
   "name": "python3"
  },
  "language_info": {
   "codemirror_mode": {
    "name": "ipython",
    "version": 3
   },
   "file_extension": ".py",
   "mimetype": "text/x-python",
   "name": "python",
   "nbconvert_exporter": "python",
   "pygments_lexer": "ipython3",
   "version": "3.9.7"
  }
 },
 "nbformat": 4,
 "nbformat_minor": 5
}
